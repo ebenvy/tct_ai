{
  "nbformat": 4,
  "nbformat_minor": 0,
  "metadata": {
    "colab": {
      "name": "convolution_from_image_generator.ipynb",
      "provenance": [],
      "authorship_tag": "ABX9TyNLT0UCc/1fHA4HOukC/kBi",
      "include_colab_link": true
    },
    "kernelspec": {
      "name": "python3",
      "display_name": "Python 3"
    },
    "language_info": {
      "name": "python"
    }
  },
  "cells": [
    {
      "cell_type": "markdown",
      "metadata": {
        "id": "view-in-github",
        "colab_type": "text"
      },
      "source": [
        "<a href=\"https://colab.research.google.com/github/ebenvy/tct_ai/blob/main/convolution_from_image_generator.ipynb\" target=\"_parent\"><img src=\"https://colab.research.google.com/assets/colab-badge.svg\" alt=\"Open In Colab\"/></a>"
      ]
    },
    {
      "cell_type": "markdown",
      "metadata": {
        "id": "JCNdGSo_OB8w"
      },
      "source": [
        "\n",
        "Below is code with a link to a happy or sad dataset which contains 80 images, 40 happy and 40 sad. Create a convolutional neural network that trains to 100% accuracy on these images, which cancels training upon hitting training accuracy of >.999\n",
        "\n",
        "Hint -- it will work best with 3 convolutional layers."
      ]
    },
    {
      "cell_type": "code",
      "metadata": {
        "colab": {
          "base_uri": "https://localhost:8080/"
        },
        "id": "CJygJRu-N97n",
        "outputId": "6dfca846-4b71-4785-bd78-a81d303ee23a"
      },
      "source": [
        "import tensorflow as tf\n",
        "import os\n",
        "import zipfile\n",
        "\n",
        "\n",
        "DESIRED_ACCURACY = 0.999\n",
        "\n",
        "!wget --no-check-certificate \\\n",
        "    \"https://storage.googleapis.com/laurencemoroney-blog.appspot.com/happy-or-sad.zip\" \\\n",
        "    -O \"/tmp/happy-or-sad.zip\"\n",
        "\n",
        "zip_ref = zipfile.ZipFile(\"/tmp/happy-or-sad.zip\", 'r')\n",
        "zip_ref.extractall(\"/tmp/h-or-s\")\n",
        "zip_ref.close()\n",
        "DESIRED_ACCURACY = 0.999\n",
        "class myCallback(tf.keras.callbacks.Callback):\n",
        "  def on_epoch_end(self,epoch,logs):\n",
        "    if logs.get('accuracy') > DESIRED_ACCURACY:\n",
        "      print(\"reached accuracy over 99.9%....\")\n",
        "      self.training=False\n",
        "\n",
        "callbacks = myCallback()"
      ],
      "execution_count": 2,
      "outputs": [
        {
          "output_type": "stream",
          "text": [
            "--2021-06-26 02:58:18--  https://storage.googleapis.com/laurencemoroney-blog.appspot.com/happy-or-sad.zip\n",
            "Resolving storage.googleapis.com (storage.googleapis.com)... 172.253.115.128, 172.253.122.128, 142.250.73.208, ...\n",
            "Connecting to storage.googleapis.com (storage.googleapis.com)|172.253.115.128|:443... connected.\n",
            "HTTP request sent, awaiting response... 200 OK\n",
            "Length: 2670333 (2.5M) [application/zip]\n",
            "Saving to: ‘/tmp/happy-or-sad.zip’\n",
            "\n",
            "\r/tmp/happy-or-sad.z   0%[                    ]       0  --.-KB/s               \r/tmp/happy-or-sad.z 100%[===================>]   2.55M  --.-KB/s    in 0.01s   \n",
            "\n",
            "2021-06-26 02:58:18 (186 MB/s) - ‘/tmp/happy-or-sad.zip’ saved [2670333/2670333]\n",
            "\n"
          ],
          "name": "stdout"
        }
      ]
    },
    {
      "cell_type": "code",
      "metadata": {
        "colab": {
          "base_uri": "https://localhost:8080/"
        },
        "id": "ftxgJcTJS3X4",
        "outputId": "0b23312e-8306-4729-b959-abe8738fe902"
      },
      "source": [
        "!ls /tmp/h-or-s/happy"
      ],
      "execution_count": 4,
      "outputs": [
        {
          "output_type": "stream",
          "text": [
            "happy1-00.png  happy1-08.png  happy1-16.png  happy2-04.png  happy2-12.png\n",
            "happy1-01.png  happy1-09.png  happy1-17.png  happy2-05.png  happy2-13.png\n",
            "happy1-02.png  happy1-10.png  happy1-18.png  happy2-06.png  happy2-14.png\n",
            "happy1-03.png  happy1-11.png  happy1-19.png  happy2-07.png  happy2-15.png\n",
            "happy1-04.png  happy1-12.png  happy2-00.png  happy2-08.png  happy2-16.png\n",
            "happy1-05.png  happy1-13.png  happy2-01.png  happy2-09.png  happy2-17.png\n",
            "happy1-06.png  happy1-14.png  happy2-02.png  happy2-10.png  happy2-18.png\n",
            "happy1-07.png  happy1-15.png  happy2-03.png  happy2-11.png  happy2-19.png\n"
          ],
          "name": "stdout"
        }
      ]
    },
    {
      "cell_type": "code",
      "metadata": {
        "id": "8okJgLkrVdVG"
      },
      "source": [
        ""
      ],
      "execution_count": null,
      "outputs": []
    },
    {
      "cell_type": "code",
      "metadata": {
        "id": "PtYWMwZ0PXFX"
      },
      "source": [
        "# This Code Block should Define and Compile the Model\n",
        "model = tf.keras.models.Sequential([\n",
        "  tf.keras.layers.Conv2D(16,3, input_shape=(150,150,3),activation='relu'),\n",
        "  tf.keras.layers.MaxPool2D(pool_size=(2,2),strides=(1,1)),\n",
        "  tf.keras.layers.Conv2D(32,3, activation='relu'),\n",
        "  tf.keras.layers.MaxPool2D(pool_size=(2,2),strides=(1,1)),\n",
        "  tf.keras.layers.Conv2D(32,3, activation='relu'),\n",
        "  tf.keras.layers.MaxPool2D(pool_size=(2,2),strides=(1,1)),\n",
        "  tf.keras.layers.Flatten(),\n",
        "  tf.keras.layers.Dense(512,activation='relu'),\n",
        "  tf.keras.layers.Dense(1,activation='sigmoid')\n",
        "\n",
        "# Your Code Here\n",
        "])\n",
        "\n",
        "from tensorflow.keras.optimizers import RMSprop\n",
        "\n",
        "model.compile(optimizer='adam', loss='binary_crossentropy', metrics=['accuracy'])"
      ],
      "execution_count": 20,
      "outputs": []
    },
    {
      "cell_type": "code",
      "metadata": {
        "colab": {
          "base_uri": "https://localhost:8080/"
        },
        "id": "e6uVfhMJQo6D",
        "outputId": "6f5c3535-dd0b-4ef9-f321-86fac65f9056"
      },
      "source": [
        "# This code block should create an instance of an ImageDataGenerator called train_datagen \n",
        "# And a train_generator by calling train_datagen.flow_from_directory\n",
        "train_dir= \"/tmp/h-or-s\"\n",
        "from tensorflow.keras.preprocessing.image import ImageDataGenerator\n",
        "\n",
        "train_datagen = ImageDataGenerator(rotation_range=20,rescale=1./255, horizontal_flip=True, width_shift_range=0.1,\n",
        "                                   height_shift_range=0.1)\n",
        "\n",
        "train_generator = train_datagen.flow_from_directory(train_dir,target_size=(150,150), batch_size=5,\n",
        "                                                    class_mode='binary')\n",
        "\n",
        "# Expected output: 'Found 80 images belonging to 2 classes'"
      ],
      "execution_count": 21,
      "outputs": [
        {
          "output_type": "stream",
          "text": [
            "Found 80 images belonging to 2 classes.\n"
          ],
          "name": "stdout"
        }
      ]
    },
    {
      "cell_type": "code",
      "metadata": {
        "colab": {
          "base_uri": "https://localhost:8080/"
        },
        "id": "tBOokjL6VjdO",
        "outputId": "c744326e-8b7b-44c4-856c-54d20a5eb30d"
      },
      "source": [
        "train_generator.samples"
      ],
      "execution_count": 10,
      "outputs": [
        {
          "output_type": "execute_result",
          "data": {
            "text/plain": [
              "80"
            ]
          },
          "metadata": {
            "tags": []
          },
          "execution_count": 10
        }
      ]
    },
    {
      "cell_type": "code",
      "metadata": {
        "colab": {
          "base_uri": "https://localhost:8080/"
        },
        "id": "EijQte-aQpb5",
        "outputId": "8f8f405b-eccd-41f7-9f6d-8354692edceb"
      },
      "source": [
        "# This code block should call model.fit and train for\n",
        "# a number of epochs. \n",
        "BATCH_SIZE =16\n",
        "def get_steps(num_samples, batch_size):\n",
        "    if (num_samples % batch_size) > 0:\n",
        "        return (num_samples // batch_size) + 1\n",
        "    else:\n",
        "        return num_samples // batch_size\n",
        "\n",
        "history = model.fit(train_generator,\n",
        "         steps_per_epoch=get_steps(train_generator.samples, BATCH_SIZE),\n",
        "         epochs = 10,batch_size=BATCH_SIZE)\n",
        "      # Your Code Here)\n",
        "    \n",
        "# Expected output: \"Reached 99.9% accuracy so cancelling training!\"\""
      ],
      "execution_count": null,
      "outputs": [
        {
          "output_type": "stream",
          "text": [
            "Epoch 1/10\n"
          ],
          "name": "stdout"
        }
      ]
    },
    {
      "cell_type": "code",
      "metadata": {
        "id": "R-1eFqa4eKt9"
      },
      "source": [
        ""
      ],
      "execution_count": null,
      "outputs": []
    }
  ]
}